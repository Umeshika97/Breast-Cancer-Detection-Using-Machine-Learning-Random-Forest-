{
  "nbformat": 4,
  "nbformat_minor": 0,
  "metadata": {
    "kernelspec": {
      "display_name": "Python 3",
      "language": "python",
      "name": "python3"
    },
    "language_info": {
      "codemirror_mode": {
        "name": "ipython",
        "version": 3
      },
      "file_extension": ".py",
      "mimetype": "text/x-python",
      "name": "python",
      "nbconvert_exporter": "python",
      "pygments_lexer": "ipython3",
      "version": "3.7.6"
    },
    "colab": {
      "provenance": [],
      "include_colab_link": true
    }
  },
  "cells": [
    {
      "cell_type": "markdown",
      "metadata": {
        "id": "view-in-github",
        "colab_type": "text"
      },
      "source": [
        "<a href=\"https://colab.research.google.com/github/Umeshika97/Breast-Cancer-Detection-Using-Machine-Learning-Random-Forest-/blob/main/Random_Forest_Classifier.ipynb\" target=\"_parent\"><img src=\"https://colab.research.google.com/assets/colab-badge.svg\" alt=\"Open In Colab\"/></a>"
      ]
    },
    {
      "cell_type": "markdown",
      "metadata": {
        "id": "JgkZTAQkMDwu"
      },
      "source": [
        "### About the dataset"
      ]
    },
    {
      "cell_type": "markdown",
      "metadata": {
        "id": "j_gi7R8ALzqY"
      },
      "source": [
        "Nursery Database was derived from a hierarchical decision model originally developed to rank applications for nursery schools. It was used during several years in 1980's when there was excessive enrollment to these schools in **Ljubljana, Slovenia**, and the rejected applications frequently needed an objective explanation. The final decision depended on three subproblems: occupation of parents and child's nursery, family structure and financial standing, and social and health picture of the family. "
      ]
    },
    {
      "cell_type": "code",
      "metadata": {
        "id": "9AzqYtHIcAWN"
      },
      "source": [
        "import numpy as np \n",
        "import pandas as pd \n",
        "from sklearn import preprocessing\n",
        "import matplotlib.pyplot as plt \n",
        "import seaborn as sns\n",
        "import warnings\n",
        "warnings.simplefilter(action='ignore')"
      ],
      "execution_count": null,
      "outputs": []
    },
    {
      "cell_type": "code",
      "metadata": {
        "colab": {
          "base_uri": "https://localhost:8080/"
        },
        "id": "bsZBtZyDi5J9",
        "outputId": "3fecf742-3fa8-4b6e-b12b-1a8feb3d56d7"
      },
      "source": [
        "import pandas as pd\n",
        "# reading csv files\n",
        "df =  pd.read_csv('https://archive.ics.uci.edu/ml/machine-learning-databases/nursery/nursery.data', sep=\",\" , names=[\"parents\", \"has_nurs\", \"form\", \"children\" , \"housing\" , \"finance\" , \"social\" , \"health\" ,\"rec_status\"])\n",
        "print(df.head())"
      ],
      "execution_count": null,
      "outputs": [
        {
          "output_type": "stream",
          "name": "stdout",
          "text": [
            "  parents has_nurs      form  ...         social       health rec_status\n",
            "0   usual   proper  complete  ...        nonprob  recommended  recommend\n",
            "1   usual   proper  complete  ...        nonprob     priority   priority\n",
            "2   usual   proper  complete  ...        nonprob    not_recom  not_recom\n",
            "3   usual   proper  complete  ...  slightly_prob  recommended  recommend\n",
            "4   usual   proper  complete  ...  slightly_prob     priority   priority\n",
            "\n",
            "[5 rows x 9 columns]\n"
          ]
        }
      ]
    },
    {
      "cell_type": "code",
      "metadata": {
        "colab": {
          "base_uri": "https://localhost:8080/",
          "height": 172
        },
        "id": "zLSJegl1cAWS",
        "outputId": "51bc47e7-a523-486b-f8c8-6620fa155afe"
      },
      "source": [
        "df.describe()\n",
        "#df.head()"
      ],
      "execution_count": null,
      "outputs": [
        {
          "output_type": "execute_result",
          "data": {
            "text/html": [
              "<div>\n",
              "<style scoped>\n",
              "    .dataframe tbody tr th:only-of-type {\n",
              "        vertical-align: middle;\n",
              "    }\n",
              "\n",
              "    .dataframe tbody tr th {\n",
              "        vertical-align: top;\n",
              "    }\n",
              "\n",
              "    .dataframe thead th {\n",
              "        text-align: right;\n",
              "    }\n",
              "</style>\n",
              "<table border=\"1\" class=\"dataframe\">\n",
              "  <thead>\n",
              "    <tr style=\"text-align: right;\">\n",
              "      <th></th>\n",
              "      <th>parents</th>\n",
              "      <th>has_nurs</th>\n",
              "      <th>form</th>\n",
              "      <th>children</th>\n",
              "      <th>housing</th>\n",
              "      <th>finance</th>\n",
              "      <th>social</th>\n",
              "      <th>health</th>\n",
              "      <th>rec_status</th>\n",
              "    </tr>\n",
              "  </thead>\n",
              "  <tbody>\n",
              "    <tr>\n",
              "      <th>count</th>\n",
              "      <td>12960</td>\n",
              "      <td>12960</td>\n",
              "      <td>12960</td>\n",
              "      <td>12960</td>\n",
              "      <td>12960</td>\n",
              "      <td>12960</td>\n",
              "      <td>12960</td>\n",
              "      <td>12960</td>\n",
              "      <td>12960</td>\n",
              "    </tr>\n",
              "    <tr>\n",
              "      <th>unique</th>\n",
              "      <td>3</td>\n",
              "      <td>5</td>\n",
              "      <td>4</td>\n",
              "      <td>4</td>\n",
              "      <td>3</td>\n",
              "      <td>2</td>\n",
              "      <td>3</td>\n",
              "      <td>3</td>\n",
              "      <td>5</td>\n",
              "    </tr>\n",
              "    <tr>\n",
              "      <th>top</th>\n",
              "      <td>great_pret</td>\n",
              "      <td>very_crit</td>\n",
              "      <td>complete</td>\n",
              "      <td>more</td>\n",
              "      <td>convenient</td>\n",
              "      <td>inconv</td>\n",
              "      <td>slightly_prob</td>\n",
              "      <td>not_recom</td>\n",
              "      <td>not_recom</td>\n",
              "    </tr>\n",
              "    <tr>\n",
              "      <th>freq</th>\n",
              "      <td>4320</td>\n",
              "      <td>2592</td>\n",
              "      <td>3240</td>\n",
              "      <td>3240</td>\n",
              "      <td>4320</td>\n",
              "      <td>6480</td>\n",
              "      <td>4320</td>\n",
              "      <td>4320</td>\n",
              "      <td>4320</td>\n",
              "    </tr>\n",
              "  </tbody>\n",
              "</table>\n",
              "</div>"
            ],
            "text/plain": [
              "           parents   has_nurs      form  ...         social     health rec_status\n",
              "count        12960      12960     12960  ...          12960      12960      12960\n",
              "unique           3          5         4  ...              3          3          5\n",
              "top     great_pret  very_crit  complete  ...  slightly_prob  not_recom  not_recom\n",
              "freq          4320       2592      3240  ...           4320       4320       4320\n",
              "\n",
              "[4 rows x 9 columns]"
            ]
          },
          "metadata": {},
          "execution_count": 56
        }
      ]
    },
    {
      "cell_type": "code",
      "metadata": {
        "colab": {
          "base_uri": "https://localhost:8080/"
        },
        "id": "8ksDafYNcAWT",
        "outputId": "aa6b09d2-56f8-4c03-a692-48a218a7c44e"
      },
      "source": [
        "#view statistical properties\n",
        "# df.describe().T\n",
        "df.isnull().sum() #Checking for any missing values in the dataset"
      ],
      "execution_count": null,
      "outputs": [
        {
          "output_type": "execute_result",
          "data": {
            "text/plain": [
              "parents       0\n",
              "has_nurs      0\n",
              "form          0\n",
              "children      0\n",
              "housing       0\n",
              "finance       0\n",
              "social        0\n",
              "health        0\n",
              "rec_status    0\n",
              "dtype: int64"
            ]
          },
          "metadata": {},
          "execution_count": 57
        }
      ]
    },
    {
      "cell_type": "code",
      "metadata": {
        "colab": {
          "base_uri": "https://localhost:8080/"
        },
        "id": "N6iMMCowX5cG",
        "outputId": "a38aaf03-f6f9-48d3-851f-209875fc3e54"
      },
      "source": [
        "#checking the column names\n",
        "df.columns"
      ],
      "execution_count": null,
      "outputs": [
        {
          "output_type": "execute_result",
          "data": {
            "text/plain": [
              "Index(['parents', 'has_nurs', 'form', 'children', 'housing', 'finance',\n",
              "       'social', 'health', 'rec_status'],\n",
              "      dtype='object')"
            ]
          },
          "metadata": {},
          "execution_count": 58
        }
      ]
    },
    {
      "cell_type": "code",
      "metadata": {
        "id": "MXjBC9x1cAWU",
        "colab": {
          "base_uri": "https://localhost:8080/",
          "height": 204
        },
        "outputId": "68e84c17-82f8-4b84-991c-8b5792cd8ee8"
      },
      "source": [
        "#drop useless data\n",
        "df=df.drop(['has_nurs','housing','social' , \"health\" , 'children'], axis=1)\n",
        "df.head()   "
      ],
      "execution_count": null,
      "outputs": [
        {
          "output_type": "execute_result",
          "data": {
            "text/html": [
              "<div>\n",
              "<style scoped>\n",
              "    .dataframe tbody tr th:only-of-type {\n",
              "        vertical-align: middle;\n",
              "    }\n",
              "\n",
              "    .dataframe tbody tr th {\n",
              "        vertical-align: top;\n",
              "    }\n",
              "\n",
              "    .dataframe thead th {\n",
              "        text-align: right;\n",
              "    }\n",
              "</style>\n",
              "<table border=\"1\" class=\"dataframe\">\n",
              "  <thead>\n",
              "    <tr style=\"text-align: right;\">\n",
              "      <th></th>\n",
              "      <th>parents</th>\n",
              "      <th>form</th>\n",
              "      <th>finance</th>\n",
              "      <th>rec_status</th>\n",
              "    </tr>\n",
              "  </thead>\n",
              "  <tbody>\n",
              "    <tr>\n",
              "      <th>0</th>\n",
              "      <td>usual</td>\n",
              "      <td>complete</td>\n",
              "      <td>convenient</td>\n",
              "      <td>recommend</td>\n",
              "    </tr>\n",
              "    <tr>\n",
              "      <th>1</th>\n",
              "      <td>usual</td>\n",
              "      <td>complete</td>\n",
              "      <td>convenient</td>\n",
              "      <td>priority</td>\n",
              "    </tr>\n",
              "    <tr>\n",
              "      <th>2</th>\n",
              "      <td>usual</td>\n",
              "      <td>complete</td>\n",
              "      <td>convenient</td>\n",
              "      <td>not_recom</td>\n",
              "    </tr>\n",
              "    <tr>\n",
              "      <th>3</th>\n",
              "      <td>usual</td>\n",
              "      <td>complete</td>\n",
              "      <td>convenient</td>\n",
              "      <td>recommend</td>\n",
              "    </tr>\n",
              "    <tr>\n",
              "      <th>4</th>\n",
              "      <td>usual</td>\n",
              "      <td>complete</td>\n",
              "      <td>convenient</td>\n",
              "      <td>priority</td>\n",
              "    </tr>\n",
              "  </tbody>\n",
              "</table>\n",
              "</div>"
            ],
            "text/plain": [
              "  parents      form     finance rec_status\n",
              "0   usual  complete  convenient  recommend\n",
              "1   usual  complete  convenient   priority\n",
              "2   usual  complete  convenient  not_recom\n",
              "3   usual  complete  convenient  recommend\n",
              "4   usual  complete  convenient   priority"
            ]
          },
          "metadata": {},
          "execution_count": 59
        }
      ]
    },
    {
      "cell_type": "code",
      "metadata": {
        "scrolled": true,
        "colab": {
          "base_uri": "https://localhost:8080/",
          "height": 204
        },
        "id": "KnftETOdcAWV",
        "outputId": "76940328-a4aa-47cc-e3e9-92ba73a69e5e"
      },
      "source": [
        "#view categorical varibales\n",
        "categorical = [var for var in df.columns if df[var].dtype=='O']\n",
        "df[categorical].head()"
      ],
      "execution_count": null,
      "outputs": [
        {
          "output_type": "execute_result",
          "data": {
            "text/html": [
              "<div>\n",
              "<style scoped>\n",
              "    .dataframe tbody tr th:only-of-type {\n",
              "        vertical-align: middle;\n",
              "    }\n",
              "\n",
              "    .dataframe tbody tr th {\n",
              "        vertical-align: top;\n",
              "    }\n",
              "\n",
              "    .dataframe thead th {\n",
              "        text-align: right;\n",
              "    }\n",
              "</style>\n",
              "<table border=\"1\" class=\"dataframe\">\n",
              "  <thead>\n",
              "    <tr style=\"text-align: right;\">\n",
              "      <th></th>\n",
              "      <th>parents</th>\n",
              "      <th>form</th>\n",
              "      <th>finance</th>\n",
              "      <th>rec_status</th>\n",
              "    </tr>\n",
              "  </thead>\n",
              "  <tbody>\n",
              "    <tr>\n",
              "      <th>0</th>\n",
              "      <td>usual</td>\n",
              "      <td>complete</td>\n",
              "      <td>convenient</td>\n",
              "      <td>recommend</td>\n",
              "    </tr>\n",
              "    <tr>\n",
              "      <th>1</th>\n",
              "      <td>usual</td>\n",
              "      <td>complete</td>\n",
              "      <td>convenient</td>\n",
              "      <td>priority</td>\n",
              "    </tr>\n",
              "    <tr>\n",
              "      <th>2</th>\n",
              "      <td>usual</td>\n",
              "      <td>complete</td>\n",
              "      <td>convenient</td>\n",
              "      <td>not_recom</td>\n",
              "    </tr>\n",
              "    <tr>\n",
              "      <th>3</th>\n",
              "      <td>usual</td>\n",
              "      <td>complete</td>\n",
              "      <td>convenient</td>\n",
              "      <td>recommend</td>\n",
              "    </tr>\n",
              "    <tr>\n",
              "      <th>4</th>\n",
              "      <td>usual</td>\n",
              "      <td>complete</td>\n",
              "      <td>convenient</td>\n",
              "      <td>priority</td>\n",
              "    </tr>\n",
              "  </tbody>\n",
              "</table>\n",
              "</div>"
            ],
            "text/plain": [
              "  parents      form     finance rec_status\n",
              "0   usual  complete  convenient  recommend\n",
              "1   usual  complete  convenient   priority\n",
              "2   usual  complete  convenient  not_recom\n",
              "3   usual  complete  convenient  recommend\n",
              "4   usual  complete  convenient   priority"
            ]
          },
          "metadata": {},
          "execution_count": 60
        }
      ]
    },
    {
      "cell_type": "code",
      "metadata": {
        "id": "uNbred1ZcAWW",
        "colab": {
          "base_uri": "https://localhost:8080/",
          "height": 281
        },
        "outputId": "5b744360-c1af-4c93-b494-58dfbf2c94c1"
      },
      "source": [
        "#Some basic EDA if needed\n",
        "df.rec_status.value_counts()\n",
        "sns.countplot(x=\"rec_status\", data=df, palette=\"bwr\")\n",
        "plt.show()"
      ],
      "execution_count": null,
      "outputs": [
        {
          "output_type": "display_data",
          "data": {
            "image/png": "[encoded data removed]",
            "text/plain": [
              "<Figure size 432x288 with 1 Axes>"
            ]
          },
          "metadata": {
            "needs_background": "light"
          }
        }
      ]
    },
    {
      "cell_type": "code",
      "metadata": {
        "id": "sAhU3kdocAWY"
      },
      "source": [
        "#df.groupby('rec_status').mean() #If there are any numerical categories to analyse (there are none)"
      ],
      "execution_count": null,
      "outputs": []
    },
    {
      "cell_type": "code",
      "metadata": {
        "id": "sTp98MLscAWb"
      },
      "source": [
        "# creating dummy values parents form and finance\n",
        "parents=pd.get_dummies(df['parents'])\n",
        "form=pd.get_dummies(df['form'])\n",
        "finance=pd.get_dummies(df['finance'])"
      ],
      "execution_count": null,
      "outputs": []
    },
    {
      "cell_type": "code",
      "metadata": {
        "id": "KY1W4MVQcAWc",
        "colab": {
          "base_uri": "https://localhost:8080/",
          "height": 204
        },
        "outputId": "815842c0-f8d8-4024-9b3e-f67e16deb7a4"
      },
      "source": [
        "df=pd.concat([df,parents,form , finance],axis=1) #Adding dummy to the original df and remving the original columns\n",
        "df = df.drop(columns = ['parents', 'form' , 'finance'])\n",
        "df.head()"
      ],
      "execution_count": null,
      "outputs": [
        {
          "output_type": "execute_result",
          "data": {
            "text/html": [
              "<div>\n",
              "<style scoped>\n",
              "    .dataframe tbody tr th:only-of-type {\n",
              "        vertical-align: middle;\n",
              "    }\n",
              "\n",
              "    .dataframe tbody tr th {\n",
              "        vertical-align: top;\n",
              "    }\n",
              "\n",
              "    .dataframe thead th {\n",
              "        text-align: right;\n",
              "    }\n",
              "</style>\n",
              "<table border=\"1\" class=\"dataframe\">\n",
              "  <thead>\n",
              "    <tr style=\"text-align: right;\">\n",
              "      <th></th>\n",
              "      <th>rec_status</th>\n",
              "      <th>great_pret</th>\n",
              "      <th>pretentious</th>\n",
              "      <th>usual</th>\n",
              "      <th>complete</th>\n",
              "      <th>completed</th>\n",
              "      <th>foster</th>\n",
              "      <th>incomplete</th>\n",
              "      <th>convenient</th>\n",
              "      <th>inconv</th>\n",
              "    </tr>\n",
              "  </thead>\n",
              "  <tbody>\n",
              "    <tr>\n",
              "      <th>0</th>\n",
              "      <td>recommend</td>\n",
              "      <td>0</td>\n",
              "      <td>0</td>\n",
              "      <td>1</td>\n",
              "      <td>1</td>\n",
              "      <td>0</td>\n",
              "      <td>0</td>\n",
              "      <td>0</td>\n",
              "      <td>1</td>\n",
              "      <td>0</td>\n",
              "    </tr>\n",
              "    <tr>\n",
              "      <th>1</th>\n",
              "      <td>priority</td>\n",
              "      <td>0</td>\n",
              "      <td>0</td>\n",
              "      <td>1</td>\n",
              "      <td>1</td>\n",
              "      <td>0</td>\n",
              "      <td>0</td>\n",
              "      <td>0</td>\n",
              "      <td>1</td>\n",
              "      <td>0</td>\n",
              "    </tr>\n",
              "    <tr>\n",
              "      <th>2</th>\n",
              "      <td>not_recom</td>\n",
              "      <td>0</td>\n",
              "      <td>0</td>\n",
              "      <td>1</td>\n",
              "      <td>1</td>\n",
              "      <td>0</td>\n",
              "      <td>0</td>\n",
              "      <td>0</td>\n",
              "      <td>1</td>\n",
              "      <td>0</td>\n",
              "    </tr>\n",
              "    <tr>\n",
              "      <th>3</th>\n",
              "      <td>recommend</td>\n",
              "      <td>0</td>\n",
              "      <td>0</td>\n",
              "      <td>1</td>\n",
              "      <td>1</td>\n",
              "      <td>0</td>\n",
              "      <td>0</td>\n",
              "      <td>0</td>\n",
              "      <td>1</td>\n",
              "      <td>0</td>\n",
              "    </tr>\n",
              "    <tr>\n",
              "      <th>4</th>\n",
              "      <td>priority</td>\n",
              "      <td>0</td>\n",
              "      <td>0</td>\n",
              "      <td>1</td>\n",
              "      <td>1</td>\n",
              "      <td>0</td>\n",
              "      <td>0</td>\n",
              "      <td>0</td>\n",
              "      <td>1</td>\n",
              "      <td>0</td>\n",
              "    </tr>\n",
              "  </tbody>\n",
              "</table>\n",
              "</div>"
            ],
            "text/plain": [
              "  rec_status  great_pret  pretentious  ...  incomplete  convenient  inconv\n",
              "0  recommend           0            0  ...           0           1       0\n",
              "1   priority           0            0  ...           0           1       0\n",
              "2  not_recom           0            0  ...           0           1       0\n",
              "3  recommend           0            0  ...           0           1       0\n",
              "4   priority           0            0  ...           0           1       0\n",
              "\n",
              "[5 rows x 10 columns]"
            ]
          },
          "metadata": {},
          "execution_count": 64
        }
      ]
    },
    {
      "cell_type": "code",
      "metadata": {
        "colab": {
          "base_uri": "https://localhost:8080/"
        },
        "id": "tENudvQyc1kt",
        "outputId": "8078a733-c089-42d6-bd26-03ac896bc32a"
      },
      "source": [
        "df.rec_status.unique() #Checking all the unique categories in the rec_status"
      ],
      "execution_count": null,
      "outputs": [
        {
          "output_type": "execute_result",
          "data": {
            "text/plain": [
              "array(['recommend', 'priority', 'not_recom', 'very_recom', 'spec_prior'],\n",
              "      dtype=object)"
            ]
          },
          "metadata": {},
          "execution_count": 65
        }
      ]
    },
    {
      "cell_type": "code",
      "metadata": {
        "colab": {
          "base_uri": "https://localhost:8080/"
        },
        "id": "sQd2GqZEb8la",
        "outputId": "9d1a7e04-e898-4811-ec22-c53cd726a450"
      },
      "source": [
        "scale_mapper = {\"not_recom\":1, \"recommend\":2, \"very_recom\":3 , \"priority\":4 , \"spec_prior\":5}\n",
        "df[\"rec_status_enc\"] = df[\"rec_status\"].replace(scale_mapper)\n",
        "\n",
        "print(df.head())"
      ],
      "execution_count": null,
      "outputs": [
        {
          "output_type": "stream",
          "name": "stdout",
          "text": [
            "  rec_status  great_pret  pretentious  ...  convenient  inconv  rec_status_enc\n",
            "0  recommend           0            0  ...           1       0               2\n",
            "1   priority           0            0  ...           1       0               4\n",
            "2  not_recom           0            0  ...           1       0               1\n",
            "3  recommend           0            0  ...           1       0               2\n",
            "4   priority           0            0  ...           1       0               4\n",
            "\n",
            "[5 rows x 11 columns]\n"
          ]
        }
      ]
    },
    {
      "cell_type": "code",
      "metadata": {
        "colab": {
          "base_uri": "https://localhost:8080/",
          "height": 204
        },
        "id": "mHSbyEdZeCj4",
        "outputId": "316cba63-ab7f-4153-b2da-e73fa4f2f7af"
      },
      "source": [
        "#Dropping the Rec_status variable since we have the encoded one\n",
        "df=df.drop([\"rec_status\"], axis=1)\n",
        "df.head()\n"
      ],
      "execution_count": null,
      "outputs": [
        {
          "output_type": "execute_result",
          "data": {
            "text/html": [
              "<div>\n",
              "<style scoped>\n",
              "    .dataframe tbody tr th:only-of-type {\n",
              "        vertical-align: middle;\n",
              "    }\n",
              "\n",
              "    .dataframe tbody tr th {\n",
              "        vertical-align: top;\n",
              "    }\n",
              "\n",
              "    .dataframe thead th {\n",
              "        text-align: right;\n",
              "    }\n",
              "</style>\n",
              "<table border=\"1\" class=\"dataframe\">\n",
              "  <thead>\n",
              "    <tr style=\"text-align: right;\">\n",
              "      <th></th>\n",
              "      <th>great_pret</th>\n",
              "      <th>pretentious</th>\n",
              "      <th>usual</th>\n",
              "      <th>complete</th>\n",
              "      <th>completed</th>\n",
              "      <th>foster</th>\n",
              "      <th>incomplete</th>\n",
              "      <th>convenient</th>\n",
              "      <th>inconv</th>\n",
              "      <th>rec_status_enc</th>\n",
              "    </tr>\n",
              "  </thead>\n",
              "  <tbody>\n",
              "    <tr>\n",
              "      <th>0</th>\n",
              "      <td>0</td>\n",
              "      <td>0</td>\n",
              "      <td>1</td>\n",
              "      <td>1</td>\n",
              "      <td>0</td>\n",
              "      <td>0</td>\n",
              "      <td>0</td>\n",
              "      <td>1</td>\n",
              "      <td>0</td>\n",
              "      <td>2</td>\n",
              "    </tr>\n",
              "    <tr>\n",
              "      <th>1</th>\n",
              "      <td>0</td>\n",
              "      <td>0</td>\n",
              "      <td>1</td>\n",
              "      <td>1</td>\n",
              "      <td>0</td>\n",
              "      <td>0</td>\n",
              "      <td>0</td>\n",
              "      <td>1</td>\n",
              "      <td>0</td>\n",
              "      <td>4</td>\n",
              "    </tr>\n",
              "    <tr>\n",
              "      <th>2</th>\n",
              "      <td>0</td>\n",
              "      <td>0</td>\n",
              "      <td>1</td>\n",
              "      <td>1</td>\n",
              "      <td>0</td>\n",
              "      <td>0</td>\n",
              "      <td>0</td>\n",
              "      <td>1</td>\n",
              "      <td>0</td>\n",
              "      <td>1</td>\n",
              "    </tr>\n",
              "    <tr>\n",
              "      <th>3</th>\n",
              "      <td>0</td>\n",
              "      <td>0</td>\n",
              "      <td>1</td>\n",
              "      <td>1</td>\n",
              "      <td>0</td>\n",
              "      <td>0</td>\n",
              "      <td>0</td>\n",
              "      <td>1</td>\n",
              "      <td>0</td>\n",
              "      <td>2</td>\n",
              "    </tr>\n",
              "    <tr>\n",
              "      <th>4</th>\n",
              "      <td>0</td>\n",
              "      <td>0</td>\n",
              "      <td>1</td>\n",
              "      <td>1</td>\n",
              "      <td>0</td>\n",
              "      <td>0</td>\n",
              "      <td>0</td>\n",
              "      <td>1</td>\n",
              "      <td>0</td>\n",
              "      <td>4</td>\n",
              "    </tr>\n",
              "  </tbody>\n",
              "</table>\n",
              "</div>"
            ],
            "text/plain": [
              "   great_pret  pretentious  usual  ...  convenient  inconv  rec_status_enc\n",
              "0           0            0      1  ...           1       0               2\n",
              "1           0            0      1  ...           1       0               4\n",
              "2           0            0      1  ...           1       0               1\n",
              "3           0            0      1  ...           1       0               2\n",
              "4           0            0      1  ...           1       0               4\n",
              "\n",
              "[5 rows x 10 columns]"
            ]
          },
          "metadata": {},
          "execution_count": 67
        }
      ]
    },
    {
      "cell_type": "code",
      "metadata": {
        "id": "BPfr3nvxcAWc"
      },
      "source": [
        "from sklearn.model_selection import train_test_split #Splitting data set to train and test the accuracy later\n",
        "y = df.rec_status_enc.values\n",
        "x_data = df.drop(['rec_status_enc'], axis = 1)\n",
        "\n",
        "x_train, x_test, y_train, y_test = train_test_split(x_data,y,test_size = 0.2,random_state=0)"
      ],
      "execution_count": null,
      "outputs": []
    },
    {
      "cell_type": "code",
      "metadata": {
        "id": "7hHBDffrcAWd",
        "colab": {
          "base_uri": "https://localhost:8080/"
        },
        "outputId": "bb86ef79-2a4a-4805-eb88-bd70ac1e6d5a"
      },
      "source": [
        "#Decision tree\n",
        "from sklearn.tree import DecisionTreeClassifier\n",
        "dtc = DecisionTreeClassifier()\n",
        "dtc.fit(x_train, y_train)"
      ],
      "execution_count": null,
      "outputs": [
        {
          "output_type": "execute_result",
          "data": {
            "text/plain": [
              "DecisionTreeClassifier(ccp_alpha=0.0, class_weight=None, criterion='gini',\n",
              "                       max_depth=None, max_features=None, max_leaf_nodes=None,\n",
              "                       min_impurity_decrease=0.0, min_impurity_split=None,\n",
              "                       min_samples_leaf=1, min_samples_split=2,\n",
              "                       min_weight_fraction_leaf=0.0, presort='deprecated',\n",
              "                       random_state=None, splitter='best')"
            ]
          },
          "metadata": {},
          "execution_count": 69
        }
      ]
    },
    {
      "cell_type": "code",
      "metadata": {
        "id": "J34OL9c8cAWd",
        "colab": {
          "base_uri": "https://localhost:8080/"
        },
        "outputId": "e73cf439-b9b2-476d-a0d5-861dcae24ec0"
      },
      "source": [
        "dtc.score(x_test, y_test)*100 ##Acuracy od Decision tree"
      ],
      "execution_count": null,
      "outputs": [
        {
          "output_type": "execute_result",
          "data": {
            "text/plain": [
              "41.358024691358025"
            ]
          },
          "metadata": {},
          "execution_count": 70
        }
      ]
    },
    {
      "cell_type": "code",
      "metadata": {
        "id": "cv7Hwz9DcAWe",
        "colab": {
          "base_uri": "https://localhost:8080/"
        },
        "outputId": "4ed48364-8f7a-42ac-bb37-95e3b7099660"
      },
      "source": [
        "#Random Forest\n",
        "from sklearn.ensemble import RandomForestClassifier\n",
        "rf = RandomForestClassifier()\n",
        "rf.fit(x_train, y_train)"
      ],
      "execution_count": null,
      "outputs": [
        {
          "output_type": "execute_result",
          "data": {
            "text/plain": [
              "RandomForestClassifier(bootstrap=True, ccp_alpha=0.0, class_weight=None,\n",
              "                       criterion='gini', max_depth=None, max_features='auto',\n",
              "                       max_leaf_nodes=None, max_samples=None,\n",
              "                       min_impurity_decrease=0.0, min_impurity_split=None,\n",
              "                       min_samples_leaf=1, min_samples_split=2,\n",
              "                       min_weight_fraction_leaf=0.0, n_estimators=100,\n",
              "                       n_jobs=None, oob_score=False, random_state=None,\n",
              "                       verbose=0, warm_start=False)"
            ]
          },
          "metadata": {},
          "execution_count": 71
        }
      ]
    },
    {
      "cell_type": "code",
      "metadata": {
        "id": "2EfBDJcIcAWe",
        "colab": {
          "base_uri": "https://localhost:8080/"
        },
        "outputId": "6a3c5871-3ef3-43be-ddb0-0dd65c04ba92"
      },
      "source": [
        "rf.score(x_test, y_test)*100 ##Acuracy of Random Forest"
      ],
      "execution_count": null,
      "outputs": [
        {
          "output_type": "execute_result",
          "data": {
            "text/plain": [
              "41.3966049382716"
            ]
          },
          "metadata": {},
          "execution_count": 72
        }
      ]
    },
    {
      "cell_type": "code",
      "metadata": {
        "id": "nZQO2UgrcAWf"
      },
      "source": [
        "#develop confusion matrix (For prediction)\n",
        "y_dtc = dtc.predict(x_test)\n",
        "y_rf = rf.predict(x_test)"
      ],
      "execution_count": null,
      "outputs": []
    },
    {
      "cell_type": "code",
      "metadata": {
        "id": "hyNi26QvcAWf"
      },
      "source": [
        "from sklearn.metrics import confusion_matrix\n",
        "\n",
        "cm_dtc = confusion_matrix(y_test,y_dtc)\n",
        "cm_rf = confusion_matrix(y_test,y_rf)"
      ],
      "execution_count": null,
      "outputs": []
    },
    {
      "cell_type": "code",
      "metadata": {
        "id": "N2IXQKurcAWf",
        "colab": {
          "base_uri": "https://localhost:8080/",
          "height": 163
        },
        "outputId": "0da9e077-c06a-4458-c646-2d023fcbcbb7"
      },
      "source": [
        "plt.subplot(2,3,1)\n",
        "plt.title(\"Decision Tree Classifier Confusion Matrix\")\n",
        "sns.heatmap(cm_dtc,annot=True,cmap=\"Blues\",fmt=\"d\",cbar=False)\n",
        "\n",
        "plt.subplot(2,3,2)\n",
        "plt.title(\"Random Forest Confusion Matrix\")\n",
        "sns.heatmap(cm_rf,annot=True,cmap=\"Blues\",fmt=\"d\",cbar=False)\n",
        "\n",
        "plt.show() #This is not ideal in this case"
      ],
      "execution_count": null,
      "outputs": [
        {
          "output_type": "display_data",
          "data": {
            "image/png": "[encoded data removed]",
            "text/plain": [
              "<Figure size 432x288 with 2 Axes>"
            ]
          },
          "metadata": {
            "needs_background": "light"
          }
        }
      ]
    }
  ]
}